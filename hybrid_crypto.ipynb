{
 "cells": [
  {
   "cell_type": "code",
   "execution_count": 41,
   "metadata": {},
   "outputs": [
    {
     "name": "stdout",
     "output_type": "stream",
     "text": [
      "Enter ciphertext: tanmoy\n",
      "Length of Ciphertext: 6\n",
      "Length of Ciphertext(HEX):544\n",
      "Length of Ciphertext:272\n",
      "Keys & IV: \n",
      "blowfish_iv  :  b'6cf04b520532ec5a'\n",
      "blowfish_key  :  b'6d7920313662697420426c6f7766697368206b6579'\n",
      "rsa_n  :  19493018637786835182157516892729744580290057898185767279402433020884096050910095248683715784227833540169961460628803714885853165979030340937235492206412235508633833594232723838809834569801357726075100474205859250957549694369703137789592086817167634387505377953111788444414906773642391339468330136444111550734960781832414397763712666762113471303366906645033705683879216138316140742807284485156598505200926259141839042362326489725634350778426976460498519354073015655034803778296502616992403869461213268986024337370324122680421079956342063178118656407187750371667924039729893717498290898980813029893921934433953505380129\n",
      "rsa_e  :  65537\n",
      "rsa_d  :  2748004931481645028731148794908679222077602650736809800485208030272184619594402703855667029776781880123140728668531020977926932884939214793461994178785154094088346866306302326117522339905621923969785819936645461641466677240058093749149965517246925768743796434209680233119448917125929682245874881831746137559511629983208734605283105285729121265288044383170723105337247758211426250004144566534631763847414841802655150534774026195098792417031828531909385105088948179978162501017755966178201794064989943627578709726866253757434253923278504246558950434243794156199330293131536295677574551978585924583984887833140766292045\n",
      "aes_iv  :  b'9533921583e9ef141f72d7856c44e832'\n",
      "aes_key  :  b'6d7920313662697420414553206b6579'\n"
     ]
    }
   ],
   "source": [
    "from Crypto.Cipher import Blowfish, PKCS1_OAEP, AES\n",
    "from Crypto.PublicKey import RSA\n",
    "from Crypto.Util.Padding import pad, unpad\n",
    "from binascii import hexlify , unhexlify\n",
    "\n",
    "plaintext = input('Enter ciphertext: ').encode()\n",
    "print(\"Length of Ciphertext: \"+str(len(plaintext.decode())))\n",
    "\n",
    "# Dictionary of Keys\n",
    "keys_iv = {}\n",
    "\n",
    "# Blowfish Layer 1\n",
    "\n",
    "blowfish_key = 'my 16bit Blowfish key'.encode()\n",
    "blowfish_cipher = Blowfish.new(blowfish_key, Blowfish.MODE_CBC)\n",
    "\n",
    "blowfish_ciphertext = blowfish_cipher.encrypt(pad(plaintext, Blowfish.block_size ))\n",
    "\n",
    "keys_iv['blowfish_iv'] = hexlify(blowfish_cipher.iv)\n",
    "keys_iv['blowfish_key'] = hexlify(blowfish_key)\n",
    "\n",
    "# RSA Layer 2\n",
    "\n",
    "rsa_key = RSA.generate(2048)\n",
    "rsa_private_key = rsa_key\n",
    "rsa_public_key = rsa_key.publickey()\n",
    "\n",
    "cipher_rsa = PKCS1_OAEP.new(rsa_public_key)\n",
    "rsa_plaintext = blowfish_ciphertext\n",
    "\n",
    "rsa_ciphertext = bytearray()\n",
    "for i in range(0, len(rsa_plaintext), 190):\n",
    "    rsa_ciphertext.extend(cipher_rsa.encrypt(rsa_plaintext[i:i+190]))\n",
    "\n",
    "keys_iv['rsa_n'] = rsa_private_key.n\n",
    "keys_iv['rsa_e'] = rsa_private_key.e\n",
    "keys_iv['rsa_d'] = rsa_private_key.d\n",
    "\n",
    "# AES Layer 3\n",
    "aes_key = 'my 16bit AES key'.encode()\n",
    "aes_cipher = AES.new(aes_key, AES.MODE_CBC)\n",
    "aes_plaintext = rsa_ciphertext\n",
    "\n",
    "aes_ciphertext = aes_cipher.encrypt(pad(aes_plaintext, AES.block_size))\n",
    "\n",
    "ciphertext = aes_ciphertext\n",
    "\n",
    "keys_iv['aes_iv'] = hexlify(aes_cipher.iv)\n",
    "keys_iv['aes_key'] = hexlify(aes_key)\n",
    "\n",
    "'''print(\"Ciphertext: \" + ciphertext.hex())'''\n",
    "print(\"Length of Ciphertext(HEX):\"+str(len(ciphertext.hex())))\n",
    "print(\"Length of Ciphertext:\"+str(len(ciphertext)))\n",
    "print(\"Keys & IV: \")\n",
    "\n",
    "for keys, values in keys_iv.items():\n",
    "    print(keys, \" : \" , values)\n"
   ]
  },
  {
   "cell_type": "code",
   "execution_count": null,
   "metadata": {},
   "outputs": [],
   "source": [
    "from stegano import lsb\n",
    "\n",
    "password_cipher = AES.new(input('Enter a Password: ').encode() , AES.MODE_CBC)\n",
    "\n",
    "for keys, values in keys_iv.items():\n",
    "    aes_ciphertext = password_cipher.encrypt(pad(values, AES.block_size))\n",
    "\n",
    "for text in texts:\n",
    "    secret = lsb.hide(\"./badge.png\", text)\n",
    "    secret.save(\"./badge.png\")"
   ]
  },
  {
   "cell_type": "code",
   "execution_count": 6,
   "metadata": {},
   "outputs": [
    {
     "name": "stdout",
     "output_type": "stream",
     "text": [
      "vvyubh\n"
     ]
    }
   ],
   "source": [
    "#Initializations\n",
    "\n",
    "decryption_key_aes = unhexlify(keys_iv['aes_key'])\n",
    "decryption_iv_aes = unhexlify(keys_iv['aes_iv'])\n",
    "decryption_key_rsa = RSA.construct(rsa_components = (keys_iv['rsa_n'] , keys_iv['rsa_e'] , keys_iv['rsa_d']))\n",
    "decryption_iv_blowfish = unhexlify(keys_iv['blowfish_iv'])\n",
    "decryption_key_blowfish = unhexlify(keys_iv['blowfish_key'])\n",
    "\n",
    "\n",
    "aes_cipher_decryption = AES.new(decryption_key_aes, AES.MODE_CBC, iv=decryption_iv_aes)\n",
    "rsa_cipher_decryption = PKCS1_OAEP.new(decryption_key_rsa)\n",
    "blowfish_cipher_decryption = Blowfish.new(decryption_key_blowfish, Blowfish.MODE_CBC, iv=decryption_iv_blowfish)\n",
    "\n",
    "# AES DECRYPTION\n",
    "ciphertext_rsa = unpad(aes_cipher_decryption.decrypt(ciphertext), AES.block_size)\n",
    "# RSA DECRYPTION\n",
    "ciphertext_blowfish = bytearray()\n",
    "for i in range(0, len(ciphertext_rsa),256):\n",
    "    ciphertext_rsa_segment = ciphertext_rsa[i:i+256]\n",
    "    ciphertext_blowfish.extend(rsa_cipher_decryption.decrypt(ciphertext_rsa_segment))\n",
    "    \n",
    "# BLOWFISH DECRYPTION\n",
    "decrypted_plaintext = unpad(blowfish_cipher_decryption.decrypt(ciphertext_blowfish), Blowfish.block_size)\n",
    "\n",
    "print(decrypted_plaintext.decode())"
   ]
  },
  {
   "cell_type": "code",
   "execution_count": 8,
   "metadata": {},
   "outputs": [
    {
     "name": "stdout",
     "output_type": "stream",
     "text": [
      "tanmoy is a good boy 1236\n"
     ]
    }
   ],
   "source": [
    "from stegano import lsb\n",
    "clear_message = lsb.reveal(\"./crypted-badge.png\")\n",
    "print(clear_message)"
   ]
  },
  {
   "cell_type": "code",
   "execution_count": 14,
   "metadata": {},
   "outputs": [
    {
     "name": "stdout",
     "output_type": "stream",
     "text": [
      "Enter Plaintext: tanmoy\n",
      "Length of plaibtext: 6\n",
      "Enter a Password: tsg\n",
      "Password Length:  3\n",
      "Start Time = 22:33:31\n",
      "dbd1f28758f9ed62\n",
      "Length of Ciphertext(HEX):544\n",
      "Length of Ciphertext:272\n",
      "Keys & IV: \n",
      "ff88a7cb2fe8fc70f457e117d7fb7c09\n",
      "48d069b38696411926a1d5d7ab09aa8289a51a412e6f357acc67e25d518e8492\n",
      "20384587474050441492035193520483236261738215668761694792966669282192630005473550744137218764808549069599280414102551133575344275523043032753113369634980778741757630478137893373907102030675957039584246113180558681832732273709236324317038260750905348956848095810640478254758627565252591852838979539840890840136922148788140367439132017576454070861445678719568513101466692536930275562796077498460955692966524665921986354656951925224207047191333696251563276329438540571707279464809702633036950516235087323901482413015873305090313992926637940475597470906499775034610962897469641143670998253278429537039850348125544984586487\n",
      "65537\n",
      "5411463034217763722453397269776879388463333326290736011841160141165866256240426565855918520379924877746742765835424029509190834269952892012735804277116675901385465539445550893681977526125704572603059552269944610624927538611674223270333272205689171935719413017280666504055580853262501992091376871601565815290556533378790048204060850280385390796079702256701281641278126512269125103155238654815897479445292574548524086291627535349736616182078326867747117766165776400888212087714055948637189814817048280172693917528078796575538257206262647640241536378291949333366804071595358098412946630800192087943627625970173732902033\n",
      "ad521164b9a393db284a08770b70f17f4a3b53393af286a32bd25dcca0c32202\n",
      "1835d81a63bb6c91feb638b32a75f53ef40c716b73c1bda15bd7bec09c289a26\n",
      "\n",
      "End Time = 22:33:35\n"
     ]
    }
   ],
   "source": [
    "from Crypto.Cipher import Blowfish, PKCS1_OAEP, AES\n",
    "from Crypto.PublicKey import RSA\n",
    "from Crypto.Util.Padding import pad, unpad\n",
    "from binascii import hexlify , unhexlify\n",
    "import hashlib\n",
    "from datetime import datetime\n",
    "\n",
    "plaintext = input('Enter Plaintext: ').encode()\n",
    "print(\"Length of plaibtext: \"+str(len(plaintext.decode())))\n",
    "\n",
    "# Dictionary of Keys\n",
    "password = input('Enter a Password: ')\n",
    "print(\"Password Length: \", len(password))\n",
    "\n",
    "now = datetime.now()\n",
    "current_time = now.strftime(\"%H:%M:%S\")\n",
    "print(\"Start Time =\", current_time)\n",
    "\n",
    "hash = hashlib.sha1()\n",
    "hash.update(password.encode())\n",
    "key_iv_string = \"\"\n",
    "password_cipher = AES.new( hash.hexdigest()[:16].encode() , AES.MODE_CBC)\n",
    "\n",
    "# Blowfish Layer 1\n",
    "\n",
    "blowfish_key = 'my 16bit Blowfish key'.encode()\n",
    "blowfish_cipher = Blowfish.new(blowfish_key, Blowfish.MODE_CBC)\n",
    "\n",
    "blowfish_ciphertext = blowfish_cipher.encrypt(pad(plaintext, Blowfish.block_size ))\n",
    "print(blowfish_cipher.iv.hex())\n",
    "key_iv_string = key_iv_string + str(hexlify(password_cipher.encrypt(pad(blowfish_cipher.iv, AES.block_size))).decode())\n",
    "key_iv_string = key_iv_string + \"\\n\"+str(hexlify(password_cipher.encrypt(pad(blowfish_key, AES.block_size))).decode())\n",
    "\n",
    "# RSA Layer 2\n",
    "\n",
    "rsa_key = RSA.generate(2048)\n",
    "rsa_private_key = rsa_key\n",
    "rsa_public_key = rsa_key.publickey()\n",
    "\n",
    "cipher_rsa = PKCS1_OAEP.new(rsa_public_key)\n",
    "rsa_plaintext = blowfish_ciphertext\n",
    "\n",
    "rsa_ciphertext = bytearray()\n",
    "for i in range(0, len(rsa_plaintext), 190):\n",
    "    rsa_ciphertext.extend(cipher_rsa.encrypt(rsa_plaintext[i:i+190]))\n",
    "\n",
    "key_iv_string = key_iv_string + \"\\n\"+str(rsa_private_key.n)\n",
    "key_iv_string = key_iv_string + \"\\n\"+str(rsa_private_key.e)\n",
    "key_iv_string = key_iv_string + \"\\n\"+str(rsa_private_key.d)\n",
    "\n",
    "# AES Layer 3\n",
    "aes_key = 'my 16bit AES key'.encode()\n",
    "aes_cipher = AES.new(aes_key, AES.MODE_CBC)\n",
    "aes_plaintext = rsa_ciphertext\n",
    "\n",
    "aes_ciphertext = aes_cipher.encrypt(pad(aes_plaintext, AES.block_size))\n",
    "\n",
    "ciphertext = aes_ciphertext\n",
    "\n",
    "key_iv_string = key_iv_string + \"\\n\"+str(hexlify(password_cipher.encrypt(pad(aes_cipher.iv, AES.block_size))).decode())\n",
    "key_iv_string = key_iv_string + \"\\n\"+str(hexlify(password_cipher.encrypt(pad(aes_key, AES.block_size))).decode())\n",
    "\n",
    "\n",
    "'''print(\"Ciphertext: \" + ciphertext.hex())'''\n",
    "print(\"Length of Ciphertext(HEX):\"+str(len(ciphertext.hex())))\n",
    "print(\"Length of Ciphertext:\"+str(len(ciphertext)))\n",
    "print(\"Keys & IV: \")\n",
    "\n",
    "print(key_iv_string)\n",
    "\n",
    "now = datetime.now()\n",
    "current_time = now.strftime(\"%H:%M:%S\")\n",
    "print(\"\\nEnd Time =\", current_time)"
   ]
  },
  {
   "cell_type": "code",
   "execution_count": 8,
   "metadata": {},
   "outputs": [
    {
     "name": "stdout",
     "output_type": "stream",
     "text": [
      "Enter a Password: tanmoy\n",
      "Password Length:  6\n",
      "Start Time = 22:13:47\n"
     ]
    },
    {
     "ename": "KeyError",
     "evalue": "'aes_key'",
     "output_type": "error",
     "traceback": [
      "\u001b[1;31m---------------------------------------------------------------------------\u001b[0m",
      "\u001b[1;31mKeyError\u001b[0m                                  Traceback (most recent call last)",
      "\u001b[1;32m<ipython-input-8-70d8ab4c8ec6>\u001b[0m in \u001b[0;36m<module>\u001b[1;34m\u001b[0m\n\u001b[0;32m     14\u001b[0m \u001b[1;31m#Initializations\u001b[0m\u001b[1;33m\u001b[0m\u001b[1;33m\u001b[0m\u001b[1;33m\u001b[0m\u001b[0m\n\u001b[0;32m     15\u001b[0m \u001b[1;33m\u001b[0m\u001b[0m\n\u001b[1;32m---> 16\u001b[1;33m \u001b[0mdecryption_key_aes\u001b[0m \u001b[1;33m=\u001b[0m \u001b[0munhexlify\u001b[0m\u001b[1;33m(\u001b[0m\u001b[0mkeys_iv\u001b[0m\u001b[1;33m[\u001b[0m\u001b[1;34m'aes_key'\u001b[0m\u001b[1;33m]\u001b[0m\u001b[1;33m)\u001b[0m\u001b[1;33m\u001b[0m\u001b[1;33m\u001b[0m\u001b[0m\n\u001b[0m\u001b[0;32m     17\u001b[0m \u001b[0mdecryption_iv_aes\u001b[0m \u001b[1;33m=\u001b[0m \u001b[0munhexlify\u001b[0m\u001b[1;33m(\u001b[0m\u001b[0mkeys_iv\u001b[0m\u001b[1;33m[\u001b[0m\u001b[1;34m'aes_iv'\u001b[0m\u001b[1;33m]\u001b[0m\u001b[1;33m)\u001b[0m\u001b[1;33m\u001b[0m\u001b[1;33m\u001b[0m\u001b[0m\n\u001b[0;32m     18\u001b[0m \u001b[0mdecryption_key_rsa\u001b[0m \u001b[1;33m=\u001b[0m \u001b[0mRSA\u001b[0m\u001b[1;33m.\u001b[0m\u001b[0mconstruct\u001b[0m\u001b[1;33m(\u001b[0m\u001b[0mrsa_components\u001b[0m \u001b[1;33m=\u001b[0m \u001b[1;33m(\u001b[0m\u001b[0mkeys_iv\u001b[0m\u001b[1;33m[\u001b[0m\u001b[1;34m'rsa_n'\u001b[0m\u001b[1;33m]\u001b[0m \u001b[1;33m,\u001b[0m \u001b[0mkeys_iv\u001b[0m\u001b[1;33m[\u001b[0m\u001b[1;34m'rsa_e'\u001b[0m\u001b[1;33m]\u001b[0m \u001b[1;33m,\u001b[0m \u001b[0mkeys_iv\u001b[0m\u001b[1;33m[\u001b[0m\u001b[1;34m'rsa_d'\u001b[0m\u001b[1;33m]\u001b[0m\u001b[1;33m)\u001b[0m\u001b[1;33m)\u001b[0m\u001b[1;33m\u001b[0m\u001b[1;33m\u001b[0m\u001b[0m\n",
      "\u001b[1;31mKeyError\u001b[0m: 'aes_key'"
     ]
    }
   ],
   "source": [
    "# Dictionary of Keys\n",
    "password = input('Enter a Password: ')\n",
    "print(\"Password Length: \", len(password))\n",
    "\n",
    "now = datetime.now()\n",
    "current_time = now.strftime(\"%H:%M:%S\")\n",
    "print(\"Start Time =\", current_time)\n",
    "\n",
    "hash = hashlib.sha1()\n",
    "hash.update(password.encode())\n",
    "keys_iv = {}\n",
    "password_cipher = AES.new( hash.hexdigest()[:16].encode() , AES.MODE_CBC)\n",
    "\n",
    "#Initializations\n",
    "\n",
    "decryption_key_aes = unhexlify(keys_iv['aes_key'])\n",
    "decryption_iv_aes = unhexlify(keys_iv['aes_iv'])\n",
    "decryption_key_rsa = RSA.construct(rsa_components = (keys_iv['rsa_n'] , keys_iv['rsa_e'] , keys_iv['rsa_d']))\n",
    "decryption_iv_blowfish = unhexlify(keys_iv['blowfish_iv'])\n",
    "decryption_key_blowfish = unhexlify(keys_iv['blowfish_key'])\n",
    "\n",
    "\n",
    "aes_cipher_decryption = AES.new(decryption_key_aes, AES.MODE_CBC, iv=decryption_iv_aes)\n",
    "rsa_cipher_decryption = PKCS1_OAEP.new(decryption_key_rsa)\n",
    "blowfish_cipher_decryption = Blowfish.new(decryption_key_blowfish, Blowfish.MODE_CBC, iv=decryption_iv_blowfish)\n",
    "\n",
    "# AES DECRYPTION\n",
    "ciphertext_rsa = unpad(aes_cipher_decryption.decrypt(ciphertext), AES.block_size)\n",
    "# RSA DECRYPTION\n",
    "ciphertext_blowfish = bytearray()\n",
    "for i in range(0, len(ciphertext_rsa),256):\n",
    "    ciphertext_rsa_segment = ciphertext_rsa[i:i+256]\n",
    "    ciphertext_blowfish.extend(rsa_cipher_decryption.decrypt(ciphertext_rsa_segment))\n",
    "    \n",
    "# BLOWFISH DECRYPTION\n",
    "decrypted_plaintext = unpad(blowfish_cipher_decryption.decrypt(ciphertext_blowfish), Blowfish.block_size)\n",
    "\n",
    "print(decrypted_plaintext.decode())"
   ]
  },
  {
   "cell_type": "code",
   "execution_count": 42,
   "metadata": {},
   "outputs": [
    {
     "name": "stdout",
     "output_type": "stream",
     "text": [
      "Enter Plaintext: t\n",
      "Length of plaintext: 1\n",
      "Enter a Password: o\n",
      "Password Length:  1\n",
      "Start Time = 23:35:25\n",
      "Length of Ciphertext(HEX):544\n",
      "Length of Ciphertext:272\n",
      "Keys & IV: \n",
      "7b6600d26caa7640\n",
      "26814a9bb50f4d5e2f1746cd356b2e8d9c734b586f41f5bb91f01e6b829a672c\n",
      "20260309445994194682152695933088601091853258337809785246240414364841245291832932103044929562822733121403454007787019541164746162038858546160234530638026798141640911526593053324614245522934157656802197755560141405809801877393973256996384429884536920306156163152521312513937832149453217751267685367131526066001739994418674450927423996180685791008431655081480177038510857830211125935629180299490599021495767936036089183887987069355058264408264624034970728152260856275630768306786787646746578415001440807696088498968961641208392018226163135795982002567597984247083990681683492304899506497803651998511999583029702428700547\n",
      "65537\n",
      "5695651940628912565786979414242708493161182715348695902722635980558083269858704870019985386353449731124971186344630483946767219881958738643150601835222938629500772906388000891903701107993025629322729014883806784879377905444353011076207130875577280310673682803943614473607132147054733720636523417367765327067317481737707955156536884539721147202451132959307098019977791767568890520774305363858496371711605087582472285495741461890388222375640290632143175199930832606047015506849719058945512055192844567107553306120434441204606856500258498670871614988439968931061717821525709218529650628826369962236332667492895470040385\n",
      "55643f9dc5632945bdc857670d44196c\n",
      "b0ff35806223fbda4a05c63884c736ed39df8f238307336488806bf5ae2f9828\n",
      "\n",
      "End Time = 23:35:30\n"
     ]
    }
   ],
   "source": []
  },
  {
   "cell_type": "code",
   "execution_count": 43,
   "metadata": {},
   "outputs": [
    {
     "name": "stdout",
     "output_type": "stream",
     "text": [
      "Enter a Password: o\n",
      "Password Length:  1\n",
      "Start Time = 23:35:44\n",
      "{'aes_key': b'\\xa8*;6\\xdc\\xdc\\xe0\\x9d\\x9c\\t\\x04\\x88\\xc0\\xe2*$', 'aes_iv': b'Ud?\\x9d\\xc5c)E\\xbd\\xc8Wg\\rD\\x19l', 'rsa_d': 5695651940628912565786979414242708493161182715348695902722635980558083269858704870019985386353449731124971186344630483946767219881958738643150601835222938629500772906388000891903701107993025629322729014883806784879377905444353011076207130875577280310673682803943614473607132147054733720636523417367765327067317481737707955156536884539721147202451132959307098019977791767568890520774305363858496371711605087582472285495741461890388222375640290632143175199930832606047015506849719058945512055192844567107553306120434441204606856500258498670871614988439968931061717821525709218529650628826369962236332667492895470040385, 'rsa_e': 65537, 'rsa_n': 20260309445994194682152695933088601091853258337809785246240414364841245291832932103044929562822733121403454007787019541164746162038858546160234530638026798141640911526593053324614245522934157656802197755560141405809801877393973256996384429884536920306156163152521312513937832149453217751267685367131526066001739994418674450927423996180685791008431655081480177038510857830211125935629180299490599021495767936036089183887987069355058264408264624034970728152260856275630768306786787646746578415001440807696088498968961641208392018226163135795982002567597984247083990681683492304899506497803651998511999583029702428700547, 'blowfish_key': b'b\\x90\\xd7\\x8b\\xd6\\x1f\\r\\x05\\xf9T\\x1d\\xef\\xa2\\x9d\\x88\\x1ch key', 'blowfish_iv': b'{f\\x00\\xd2l\\xaav@'}\n"
     ]
    },
    {
     "ename": "ValueError",
     "evalue": "PKCS#7 padding is incorrect.",
     "output_type": "error",
     "traceback": [
      "\u001b[1;31m---------------------------------------------------------------------------\u001b[0m",
      "\u001b[1;31mValueError\u001b[0m                                Traceback (most recent call last)",
      "\u001b[1;32m<ipython-input-43-a380efa3adb1>\u001b[0m in \u001b[0;36m<module>\u001b[1;34m\u001b[0m\n\u001b[0;32m     39\u001b[0m \u001b[1;33m\u001b[0m\u001b[0m\n\u001b[0;32m     40\u001b[0m \u001b[1;31m# AES DECRYPTION\u001b[0m\u001b[1;33m\u001b[0m\u001b[1;33m\u001b[0m\u001b[1;33m\u001b[0m\u001b[0m\n\u001b[1;32m---> 41\u001b[1;33m \u001b[0mciphertext_rsa\u001b[0m \u001b[1;33m=\u001b[0m \u001b[0munpad\u001b[0m\u001b[1;33m(\u001b[0m\u001b[0maes_cipher_decryption\u001b[0m\u001b[1;33m.\u001b[0m\u001b[0mdecrypt\u001b[0m\u001b[1;33m(\u001b[0m\u001b[0mciphertext\u001b[0m\u001b[1;33m)\u001b[0m\u001b[1;33m,\u001b[0m \u001b[0mAES\u001b[0m\u001b[1;33m.\u001b[0m\u001b[0mblock_size\u001b[0m\u001b[1;33m)\u001b[0m\u001b[1;33m\u001b[0m\u001b[1;33m\u001b[0m\u001b[0m\n\u001b[0m\u001b[0;32m     42\u001b[0m \u001b[1;31m# RSA DECRYPTION\u001b[0m\u001b[1;33m\u001b[0m\u001b[1;33m\u001b[0m\u001b[1;33m\u001b[0m\u001b[0m\n\u001b[0;32m     43\u001b[0m \u001b[0mciphertext_blowfish\u001b[0m \u001b[1;33m=\u001b[0m \u001b[0mbytearray\u001b[0m\u001b[1;33m(\u001b[0m\u001b[1;33m)\u001b[0m\u001b[1;33m\u001b[0m\u001b[1;33m\u001b[0m\u001b[0m\n",
      "\u001b[1;32m~\\Anaconda3\\lib\\site-packages\\Crypto\\Util\\Padding.py\u001b[0m in \u001b[0;36munpad\u001b[1;34m(padded_data, block_size, style)\u001b[0m\n\u001b[0;32m     93\u001b[0m         \u001b[1;32mif\u001b[0m \u001b[0mstyle\u001b[0m \u001b[1;33m==\u001b[0m \u001b[1;34m'pkcs7'\u001b[0m\u001b[1;33m:\u001b[0m\u001b[1;33m\u001b[0m\u001b[1;33m\u001b[0m\u001b[0m\n\u001b[0;32m     94\u001b[0m             \u001b[1;32mif\u001b[0m \u001b[0mpadded_data\u001b[0m\u001b[1;33m[\u001b[0m\u001b[1;33m-\u001b[0m\u001b[0mpadding_len\u001b[0m\u001b[1;33m:\u001b[0m\u001b[1;33m]\u001b[0m\u001b[1;33m!=\u001b[0m\u001b[0mbchr\u001b[0m\u001b[1;33m(\u001b[0m\u001b[0mpadding_len\u001b[0m\u001b[1;33m)\u001b[0m\u001b[1;33m*\u001b[0m\u001b[0mpadding_len\u001b[0m\u001b[1;33m:\u001b[0m\u001b[1;33m\u001b[0m\u001b[1;33m\u001b[0m\u001b[0m\n\u001b[1;32m---> 95\u001b[1;33m                 \u001b[1;32mraise\u001b[0m \u001b[0mValueError\u001b[0m\u001b[1;33m(\u001b[0m\u001b[1;34m\"PKCS#7 padding is incorrect.\"\u001b[0m\u001b[1;33m)\u001b[0m\u001b[1;33m\u001b[0m\u001b[1;33m\u001b[0m\u001b[0m\n\u001b[0m\u001b[0;32m     96\u001b[0m         \u001b[1;32melse\u001b[0m\u001b[1;33m:\u001b[0m\u001b[1;33m\u001b[0m\u001b[1;33m\u001b[0m\u001b[0m\n\u001b[0;32m     97\u001b[0m             \u001b[1;32mif\u001b[0m \u001b[0mpadded_data\u001b[0m\u001b[1;33m[\u001b[0m\u001b[1;33m-\u001b[0m\u001b[0mpadding_len\u001b[0m\u001b[1;33m:\u001b[0m\u001b[1;33m-\u001b[0m\u001b[1;36m1\u001b[0m\u001b[1;33m]\u001b[0m\u001b[1;33m!=\u001b[0m\u001b[0mbchr\u001b[0m\u001b[1;33m(\u001b[0m\u001b[1;36m0\u001b[0m\u001b[1;33m)\u001b[0m\u001b[1;33m*\u001b[0m\u001b[1;33m(\u001b[0m\u001b[0mpadding_len\u001b[0m\u001b[1;33m-\u001b[0m\u001b[1;36m1\u001b[0m\u001b[1;33m)\u001b[0m\u001b[1;33m:\u001b[0m\u001b[1;33m\u001b[0m\u001b[1;33m\u001b[0m\u001b[0m\n",
      "\u001b[1;31mValueError\u001b[0m: PKCS#7 padding is incorrect."
     ]
    }
   ],
   "source": []
  },
  {
   "cell_type": "code",
   "execution_count": 44,
   "metadata": {},
   "outputs": [
    {
     "name": "stdout",
     "output_type": "stream",
     "text": [
      "a82a3b36dcdce09d9c090488c0e22a24\n"
     ]
    }
   ],
   "source": [
    "print(hexlify(b'\\xa8*;6\\xdc\\xdc\\xe0\\x9d\\x9c\\t\\x04\\x88\\xc0\\xe2*$').decode())"
   ]
  },
  {
   "cell_type": "code",
   "execution_count": null,
   "metadata": {},
   "outputs": [],
   "source": []
  }
 ],
 "metadata": {
  "kernelspec": {
   "display_name": "Python 3",
   "language": "python",
   "name": "python3"
  },
  "language_info": {
   "codemirror_mode": {
    "name": "ipython",
    "version": 3
   },
   "file_extension": ".py",
   "mimetype": "text/x-python",
   "name": "python",
   "nbconvert_exporter": "python",
   "pygments_lexer": "ipython3",
   "version": "3.7.1"
  }
 },
 "nbformat": 4,
 "nbformat_minor": 4
}
