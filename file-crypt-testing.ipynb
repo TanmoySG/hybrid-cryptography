{
 "cells": [
  {
   "cell_type": "markdown",
   "metadata": {},
   "source": [
    "# FINAL FILE BLOCK"
   ]
  },
  {
   "cell_type": "code",
   "execution_count": null,
   "metadata": {},
   "outputs": [],
   "source": [
    "from Crypto.Cipher import AES\n",
    "from Crypto.Util.Padding import pad, unpad\n",
    "from binascii import hexlify , unhexlify\n",
    "\n",
    "key = 'my 16bit AES key'.encode()\n",
    "iv_i = 'my 16bitInitVect'.encode()\n",
    "cipher = AES.new(key, AES.MODE_CBC, iv = iv_i)\n",
    "\n",
    "with open('./test_files/testdoc002.mp3', 'rb') as file:\n",
    "    plaintext = file.read()\n",
    "    \n",
    "        \n",
    "ciphertext = cipher.encrypt(pad(plaintext, AES.block_size))\n",
    "\n",
    "with open('./test_files/testdoc002_enc.txt', 'w') as file:\n",
    "    file.write(hexlify(ciphertext).decode())\n",
    "    \n",
    "    \n",
    "with open('./test_files/testdoc002_enc.txt', 'r') as file:\n",
    "    ciphertext = file.read()\n",
    "    \n",
    "decryption_cipher = AES.new(key, AES.MODE_CBC, iv = iv_i)\n",
    "plaintext_dec = unpad(decryption_cipher.decrypt(unhexlify(ciphertext)), AES.block_size)\n",
    "\n",
    "with open('./test_files/testdoc002_dec.mp3', 'wb') as file:\n",
    "    file.write(plaintext_dec)\n",
    "    \n",
    "file.close()\n"
   ]
  },
  {
   "cell_type": "code",
   "execution_count": null,
   "metadata": {},
   "outputs": [],
   "source": []
  },
  {
   "cell_type": "markdown",
   "metadata": {},
   "source": [
    "# END OF FILE BLOCK"
   ]
  },
  {
   "cell_type": "code",
   "execution_count": null,
   "metadata": {},
   "outputs": [],
   "source": [
    "import os\n",
    "\n",
    "enc_file_details = {}\n",
    "\n",
    "enc_file_details['filename'], enc_file_details['extension'] =  os.path.splitext('Back.jpg')\n",
    "\n",
    "print(enc_file_details)"
   ]
  },
  {
   "cell_type": "code",
   "execution_count": null,
   "metadata": {},
   "outputs": [],
   "source": [
    "import os , struct, random\n",
    "infile = './test_files/testdoc001.docx'\n",
    "encfile = './test_files/testdoc001'\n",
    "\n",
    "key = \"this16bitskeyAES\".encode()\n",
    "iv = 'thisis16bitsofiv'.encode()\n",
    "aes = AES.new(key, AES.MODE_CBC, iv)\n",
    "\n",
    "\n",
    "fsz = os.path.getsize(infile)\n",
    "with open(encfile, 'wb+') as fout:\n",
    "    fout.write(struct.pack('<Q', fsz))\n",
    "    fout.write(iv)\n",
    "    fout.write()\n",
    "\n",
    "sz = 2048\n",
    "with open(infile, 'wb') as fin:\n",
    "    while True:\n",
    "        data = fin.read(sz)\n",
    "        n = len(data)\n",
    "        if n == 0:\n",
    "            break\n",
    "        elif n % 16 != 0:\n",
    "            data += ' ' * (16 - n % 16) # <- padded with spaces\n",
    "        encd = aes.encrypt(data)\n",
    "        fout.write(encd)"
   ]
  },
  {
   "cell_type": "code",
   "execution_count": null,
   "metadata": {},
   "outputs": [],
   "source": [
    "from Crypto.Cipher import AES\n",
    "from Crypto.Util.Padding import pad, unpad\n",
    "from binascii import hexlify , unhexlify\n",
    "\n",
    "key = 'my 16bit AES key'.encode()\n",
    "cipher = AES.new(key, AES.MODE_CBC)\n",
    "decryption_cipher = AES.new(key, AES.MODE_CBC)\n",
    "\n",
    "\n",
    "with open('./test_files/testdoc004.txt', 'rb') as file:\n",
    "    content_pt = file.read()\n",
    "file.close()    \n",
    "    \n",
    "ciphertext = cipher.encrypt(pad(content_pt, AES.block_size))\n",
    "\n",
    "with open('./test_files/testdoc004enc.txt', 'wb') as file:\n",
    "    file.write(ciphertext)\n",
    "file.close() \n",
    "\n",
    "plaintext = unpad(decryption_cipher.decrypt(ciphertext), AES.block_size)\n",
    "\n",
    "with open('./test_files/testdoc004enc.txt', 'rb') as file:\n",
    "    content_pt = file.read()\n",
    "file.close()    \n",
    "    \n",
    "with open('./test_files/testdoc004dec.txt', 'wb') as file:\n",
    "    file.write(plaintext)\n",
    "file.close()"
   ]
  },
  {
   "cell_type": "code",
   "execution_count": null,
   "metadata": {},
   "outputs": [],
   "source": [
    "from Crypto.Cipher import AES\n",
    "from Crypto.Util.Padding import pad, unpad\n",
    "from binascii import hexlify , unhexlify\n",
    "from zipfile import ZipFile \n",
    "import os, io \n",
    "\n",
    "key = 'my 16bit AES key'.encode()\n",
    "cipher = AES.new(key, AES.MODE_CBC)\n",
    "decryption_cipher = AES.new(key, AES.MODE_CBC)\n",
    "'''\n",
    "# ZIP Files\n",
    "with ZipFile('./test_files/testdoc004.zip', 'w') as zipf:\n",
    "    zipf.write('./test_files/testdoc004.txt')\n",
    "'''\n",
    "\n",
    "# ENC\n",
    "with open('./test_files/testdoc004.txt', 'r', encoding='utf-8') as zipfr:\n",
    "    zipped_pt = zipfr.read()\n",
    "zipfr.close()\n",
    "\n",
    "ciphertext = cipher.encrypt(pad(zipped_pt.encode(), AES.block_size))\n",
    "\n",
    "with open('./test_files/testdoc004enc.txt', 'w') as file:\n",
    "    file.write(ciphertext.decode())\n",
    "file.close() \n",
    "\n",
    "# DEC\n",
    "with open('./test_files/testdoc004enc.txt', 'r') as file:\n",
    "    content_pt = file.read()\n",
    "file.close()  \n",
    "\n",
    "plaintext = unpad(decryption_cipher.decrypt(content_pt), AES.block_size)\n",
    "\n",
    "print(plaintext)\n",
    "\n",
    "\n",
    "with open('./test_files/testdoc004dec.txt', 'w') as file:\n",
    "    file.write(plaintext)\n",
    "file.close()"
   ]
  },
  {
   "cell_type": "code",
   "execution_count": 10,
   "metadata": {},
   "outputs": [],
   "source": [
    "import zlib\n",
    "import zipfile\n",
    "\n",
    "def compress(file_names):\n",
    "\n",
    "    compression = zipfile.ZIP_DEFLATED\n",
    "\n",
    "    zf = zipfile.ZipFile(\"G:/Final-Year Project/Project-Code/hyenc-re/hyenc/src/operating_files/encryption/operating_zip.zip\", mode=\"w\")\n",
    "    try:\n",
    "        for file_name in file_names:\n",
    "            zf.write(file_name, file_name, compress_type=compression)\n",
    "\n",
    "    except FileNotFoundError:\n",
    "        print(\"An error occurred\")\n",
    "    finally:\n",
    "        zf.close()\n",
    "\n",
    "compress(file_names)"
   ]
  },
  {
   "cell_type": "code",
   "execution_count": null,
   "metadata": {},
   "outputs": [],
   "source": []
  }
 ],
 "metadata": {
  "kernelspec": {
   "display_name": "Python 3",
   "language": "python",
   "name": "python3"
  },
  "language_info": {
   "codemirror_mode": {
    "name": "ipython",
    "version": 3
   },
   "file_extension": ".py",
   "mimetype": "text/x-python",
   "name": "python",
   "nbconvert_exporter": "python",
   "pygments_lexer": "ipython3",
   "version": "3.7.1"
  }
 },
 "nbformat": 4,
 "nbformat_minor": 4
}
